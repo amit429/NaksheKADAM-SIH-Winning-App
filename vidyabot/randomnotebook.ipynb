{
 "cells": [
  {
   "cell_type": "code",
   "execution_count": 1,
   "metadata": {},
   "outputs": [],
   "source": [
    "import requests"
   ]
  },
  {
   "cell_type": "code",
   "execution_count": 3,
   "metadata": {},
   "outputs": [],
   "source": [
    "r = requests.get('https://vidyapi.loca.lt/hello')"
   ]
  },
  {
   "cell_type": "code",
   "execution_count": 4,
   "metadata": {},
   "outputs": [
    {
     "data": {
      "text/plain": [
       "'Hello World'"
      ]
     },
     "execution_count": 4,
     "metadata": {},
     "output_type": "execute_result"
    }
   ],
   "source": [
    "r.text"
   ]
  },
  {
   "cell_type": "code",
   "execution_count": 7,
   "metadata": {},
   "outputs": [],
   "source": [
    "r = requests.post('https://vidyapi.loca.lt/query', json={\"query\": \"what is engineering?\"})"
   ]
  },
  {
   "cell_type": "code",
   "execution_count": 8,
   "metadata": {},
   "outputs": [
    {
     "data": {
      "text/plain": [
       "{'result': {'documents': [{'answer_en': 'In a general scenario, engineering is a degree that acts as an essential qualification to extended and specialized qualifications. Over the years, engineering has emerged in a new light with cross mixes. One would not have imagined beyond Mechanical, Instrumentation, Electronics & Technology, Civil, Chemical, and Computer Engineering 2 decades ago. Today, we have specialized engineering verticals driven by the need of the hour and innovation. Genetic Engineering, Aerospace Engineering, Biotechnology Engineering, Agriculture Information Technology are promising professions and compensate handsomely.\\nQualification Required:\\nA degree from IIT or a well-known technical institute from the country makes you the most sought-after candidate and brings along the best compensation.'},\n",
       "   {'answer_en': 'JEE Main\\nNational Testing Agency (NTA)*\\n\\nVITEEE\\nVIT University\\n\\nSRMJEEE\\nSRM Institute of Science and Technology (Earlier known as SRM University)\\n\\nBITSAT\\nBITS Pilani\\n\\nMET\\nManipal Academy of Higher Education\\n\\nCOMEDK UGET\\nConsortium of Medical Engineering and Dental Colleges of Karnataka (COMEDK).'},\n",
       "   {'answer_en': '1.Post Matric Scholarships Scheme for Minorities\\n\\n2.Merit Cum Means Scholarship for Professional and Technical Courses CS (Minorities)\\n\\n3. Scholarships for Top Class Education for Students with Disabilities\\n\\n4.Prime Minister’s Scholarship Scheme for Central Armed Police Forces and Assam Rifles\\n\\n5.Post Matric Scholarship for Students with Disabilities\\n\\n6.Central Sector Scheme of Scholarship for College and University Students\\n\\n7.Financial Assistance for Education of the Wards of Beedi/Cine/IOMC/LSDM Workers – Post-Matric'}]},\n",
       " 'sentiment': None}"
      ]
     },
     "execution_count": 8,
     "metadata": {},
     "output_type": "execute_result"
    }
   ],
   "source": [
    "r.json()"
   ]
  },
  {
   "cell_type": "code",
   "execution_count": null,
   "metadata": {},
   "outputs": [],
   "source": []
  }
 ],
 "metadata": {
  "kernelspec": {
   "display_name": "Python 3.9.12 ('py39')",
   "language": "python",
   "name": "python3"
  },
  "language_info": {
   "codemirror_mode": {
    "name": "ipython",
    "version": 3
   },
   "file_extension": ".py",
   "mimetype": "text/x-python",
   "name": "python",
   "nbconvert_exporter": "python",
   "pygments_lexer": "ipython3",
   "version": "3.9.12"
  },
  "orig_nbformat": 4,
  "vscode": {
   "interpreter": {
    "hash": "e915b98dc0207ff6a29ccfe966a0365efa9ddf2797c86756fdf74e94f7f27ff5"
   }
  }
 },
 "nbformat": 4,
 "nbformat_minor": 2
}
