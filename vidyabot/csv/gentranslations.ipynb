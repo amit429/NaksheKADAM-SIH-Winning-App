{
 "cells": [
  {
   "cell_type": "code",
   "execution_count": 1,
   "metadata": {},
   "outputs": [],
   "source": [
    "import pandas as pd\n",
    "from googletrans import Translator"
   ]
  },
  {
   "cell_type": "code",
   "execution_count": 3,
   "metadata": {},
   "outputs": [],
   "source": [
    "config = {\n",
    "    \"QNA_CSV_PATH\": \"csv/QnA.csv\",\n",
    "    \"languages\": [\n",
    "        \"en\",\n",
    "        \"hi\",\n",
    "        \"mr\"\n",
    "    ],\n",
    "}\n",
    "df=pd.read_csv(config.get(\"QNA_CSV_PATH\").split(\"/\")[-1])"
   ]
  },
  {
   "cell_type": "code",
   "execution_count": 4,
   "metadata": {},
   "outputs": [
    {
     "data": {
      "text/html": [
       "<div>\n",
       "<style scoped>\n",
       "    .dataframe tbody tr th:only-of-type {\n",
       "        vertical-align: middle;\n",
       "    }\n",
       "\n",
       "    .dataframe tbody tr th {\n",
       "        vertical-align: top;\n",
       "    }\n",
       "\n",
       "    .dataframe thead th {\n",
       "        text-align: right;\n",
       "    }\n",
       "</style>\n",
       "<table border=\"1\" class=\"dataframe\">\n",
       "  <thead>\n",
       "    <tr style=\"text-align: right;\">\n",
       "      <th></th>\n",
       "      <th>question</th>\n",
       "      <th>answer_en</th>\n",
       "    </tr>\n",
       "  </thead>\n",
       "  <tbody>\n",
       "    <tr>\n",
       "      <th>0</th>\n",
       "      <td>Science as a career</td>\n",
       "      <td>Science offers many career options such as eng...</td>\n",
       "    </tr>\n",
       "    <tr>\n",
       "      <th>1</th>\n",
       "      <td>How is commerce as a career?</td>\n",
       "      <td>Commerce is the second most popular career opt...</td>\n",
       "    </tr>\n",
       "    <tr>\n",
       "      <th>2</th>\n",
       "      <td>How is arts or humanities as a career?</td>\n",
       "      <td>Arts/ Humanities are of those who are interest...</td>\n",
       "    </tr>\n",
       "    <tr>\n",
       "      <th>3</th>\n",
       "      <td>What is ITI?</td>\n",
       "      <td>They are training centers that provide courses...</td>\n",
       "    </tr>\n",
       "    <tr>\n",
       "      <th>4</th>\n",
       "      <td>What are polytechnic courses?</td>\n",
       "      <td>After class 10th, students can go for polytech...</td>\n",
       "    </tr>\n",
       "  </tbody>\n",
       "</table>\n",
       "</div>"
      ],
      "text/plain": [
       "                                 question  \\\n",
       "0                     Science as a career   \n",
       "1           How is commerce as a career?    \n",
       "2  How is arts or humanities as a career?   \n",
       "3                            What is ITI?   \n",
       "4          What are polytechnic courses?    \n",
       "\n",
       "                                           answer_en  \n",
       "0  Science offers many career options such as eng...  \n",
       "1  Commerce is the second most popular career opt...  \n",
       "2  Arts/ Humanities are of those who are interest...  \n",
       "3  They are training centers that provide courses...  \n",
       "4  After class 10th, students can go for polytech...  "
      ]
     },
     "execution_count": 4,
     "metadata": {},
     "output_type": "execute_result"
    }
   ],
   "source": [
    "df.head()"
   ]
  },
  {
   "cell_type": "code",
   "execution_count": 5,
   "metadata": {},
   "outputs": [
    {
     "data": {
      "text/html": [
       "<div>\n",
       "<style scoped>\n",
       "    .dataframe tbody tr th:only-of-type {\n",
       "        vertical-align: middle;\n",
       "    }\n",
       "\n",
       "    .dataframe tbody tr th {\n",
       "        vertical-align: top;\n",
       "    }\n",
       "\n",
       "    .dataframe thead th {\n",
       "        text-align: right;\n",
       "    }\n",
       "</style>\n",
       "<table border=\"1\" class=\"dataframe\">\n",
       "  <thead>\n",
       "    <tr style=\"text-align: right;\">\n",
       "      <th></th>\n",
       "      <th>question</th>\n",
       "      <th>answer_en</th>\n",
       "      <th>answer_hi</th>\n",
       "      <th>answer_mr</th>\n",
       "    </tr>\n",
       "  </thead>\n",
       "  <tbody>\n",
       "    <tr>\n",
       "      <th>0</th>\n",
       "      <td>Science as a career</td>\n",
       "      <td>Science offers many career options such as eng...</td>\n",
       "      <td>विज्ञान कई करियर विकल्प प्रदान करता है जैसे इं...</td>\n",
       "      <td>विज्ञान अभियांत्रिकी, वैद्यकीय आणि संशोधन भूमि...</td>\n",
       "    </tr>\n",
       "    <tr>\n",
       "      <th>1</th>\n",
       "      <td>How is commerce as a career?</td>\n",
       "      <td>Commerce is the second most popular career opt...</td>\n",
       "      <td>विज्ञान के बाद कॉमर्स दूसरा सबसे लोकप्रिय करिय...</td>\n",
       "      <td>विज्ञानानंतर वाणिज्य हा दुसरा सर्वात लोकप्रिय ...</td>\n",
       "    </tr>\n",
       "    <tr>\n",
       "      <th>2</th>\n",
       "      <td>How is arts or humanities as a career?</td>\n",
       "      <td>Arts/ Humanities are of those who are interest...</td>\n",
       "      <td>कला/मानविकी उनमें से हैं जो अकादमिक शोध में रु...</td>\n",
       "      <td>ज्यांना शैक्षणिक संशोधनात रस आहे अशा कला/मानवश...</td>\n",
       "    </tr>\n",
       "    <tr>\n",
       "      <th>3</th>\n",
       "      <td>What is ITI?</td>\n",
       "      <td>They are training centers that provide courses...</td>\n",
       "      <td>वे प्रशिक्षण केंद्र हैं जो स्कूल पूरा करने के ...</td>\n",
       "      <td>ही प्रशिक्षण केंद्रे आहेत जी शालेय शिक्षण पूर्...</td>\n",
       "    </tr>\n",
       "    <tr>\n",
       "      <th>4</th>\n",
       "      <td>What are polytechnic courses?</td>\n",
       "      <td>After class 10th, students can go for polytech...</td>\n",
       "      <td>10वीं के बाद छात्र मैकेनिकल, सिविल, केमिकल, कं...</td>\n",
       "      <td>दहावीनंतर विद्यार्थी मेकॅनिकल, सिव्हिल, केमिकल...</td>\n",
       "    </tr>\n",
       "  </tbody>\n",
       "</table>\n",
       "</div>"
      ],
      "text/plain": [
       "                                 question  \\\n",
       "0                     Science as a career   \n",
       "1           How is commerce as a career?    \n",
       "2  How is arts or humanities as a career?   \n",
       "3                            What is ITI?   \n",
       "4          What are polytechnic courses?    \n",
       "\n",
       "                                           answer_en  \\\n",
       "0  Science offers many career options such as eng...   \n",
       "1  Commerce is the second most popular career opt...   \n",
       "2  Arts/ Humanities are of those who are interest...   \n",
       "3  They are training centers that provide courses...   \n",
       "4  After class 10th, students can go for polytech...   \n",
       "\n",
       "                                           answer_hi  \\\n",
       "0  विज्ञान कई करियर विकल्प प्रदान करता है जैसे इं...   \n",
       "1  विज्ञान के बाद कॉमर्स दूसरा सबसे लोकप्रिय करिय...   \n",
       "2  कला/मानविकी उनमें से हैं जो अकादमिक शोध में रु...   \n",
       "3  वे प्रशिक्षण केंद्र हैं जो स्कूल पूरा करने के ...   \n",
       "4  10वीं के बाद छात्र मैकेनिकल, सिविल, केमिकल, कं...   \n",
       "\n",
       "                                           answer_mr  \n",
       "0  विज्ञान अभियांत्रिकी, वैद्यकीय आणि संशोधन भूमि...  \n",
       "1  विज्ञानानंतर वाणिज्य हा दुसरा सर्वात लोकप्रिय ...  \n",
       "2  ज्यांना शैक्षणिक संशोधनात रस आहे अशा कला/मानवश...  \n",
       "3  ही प्रशिक्षण केंद्रे आहेत जी शालेय शिक्षण पूर्...  \n",
       "4  दहावीनंतर विद्यार्थी मेकॅनिकल, सिव्हिल, केमिकल...  "
      ]
     },
     "execution_count": 5,
     "metadata": {},
     "output_type": "execute_result"
    }
   ],
   "source": [
    "# for each language in config, translate the question and answer and add to the dataframe\n",
    "\n",
    "languages = config.get(\"languages\")\n",
    "for lang in languages:\n",
    "    df[f\"answer_{lang}\"] = df[\"answer_en\"].apply(lambda x: Translator().translate(x, dest=lang).text)\n",
    "df.head()"
   ]
  },
  {
   "cell_type": "code",
   "execution_count": 6,
   "metadata": {},
   "outputs": [],
   "source": [
    "df.to_csv(config.get(\"QNA_CSV_PATH\").split(\"/\")[-1], index=False)"
   ]
  },
  {
   "cell_type": "code",
   "execution_count": null,
   "metadata": {},
   "outputs": [],
   "source": []
  }
 ],
 "metadata": {
  "kernelspec": {
   "display_name": "Python 3.9.6 64-bit",
   "language": "python",
   "name": "python3"
  },
  "language_info": {
   "name": "python",
   "version": "3.9.6"
  },
  "orig_nbformat": 4,
  "vscode": {
   "interpreter": {
    "hash": "2ab65c5e609e59afd614902b05534a074ef6aecdfc68b162c38b6bc70ce62056"
   }
  }
 },
 "nbformat": 4,
 "nbformat_minor": 2
}
